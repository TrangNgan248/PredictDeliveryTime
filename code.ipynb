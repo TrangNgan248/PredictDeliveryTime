{
 "cells": [
  {
   "cell_type": "markdown",
   "metadata": {},
   "source": [
    "<h1> Gradient Boosting for predicting delivery time </h1>"
   ]
  },
  {
   "cell_type": "markdown",
   "metadata": {},
   "source": [
    "<h2> TABLE OF CONTENTS </h2>\n",
    "<div class =\"alert alert-block alert-info\" style=\"margin-top: 20px\">\n",
    "  <ul>\n",
    "    <li><a href = \"#preprocessing\"> Preprocessing </a></li>\n",
    "    <li><a href = \"#data\"> Build Data </a></li>\n",
    "    <li>\n",
    "      <a href = \"#model\"> Build Model </a>\n",
    "      <ul>\n",
    "        <li><a href=\"#gb\">Gradient Boosting</a></li>\n",
    "        <li><a href=\"#assess\">Assessing model by R2, MAE, MSE</a></li>\n",
    "      </ul>\n",
    "    </li>\n",
    "    <li><a href = \"#rank\"> Future Ranking </a></li>\n",
    "  </ul>\n",
    "</div>"
   ]
  },
  {
   "attachments": {},
   "cell_type": "markdown",
   "metadata": {},
   "source": [
    "<h2 id = \"preprocessing\"> Preprocessing </h3>"
   ]
  },
  {
   "cell_type": "code",
   "execution_count": 12,
   "metadata": {},
   "outputs": [],
   "source": [
    "import pandas as pd"
   ]
  },
  {
   "cell_type": "code",
   "execution_count": 13,
   "metadata": {},
   "outputs": [],
   "source": [
    "# doc du lieu\n",
    "data_train = pd.read_csv(\"train.csv\")\n",
    "\n",
    "# bo cac dong co gia tri null\n",
    "data_train.dropna(axis=0, inplace = True)\n",
    "\n",
    "# bo cot ID\n",
    "data_train.drop('ID',axis=1, inplace=True)"
   ]
  },
  {
   "cell_type": "code",
   "execution_count": 14,
   "metadata": {},
   "outputs": [],
   "source": [
    "from sklearn.preprocessing import LabelEncoder\n",
    "\n",
    "le = LabelEncoder()\n",
    "\n",
    "is_Category = data_train.dtypes == object\n",
    "\n",
    "category_column_list = data_train.columns[is_Category].tolist()\n",
    "\n",
    "data_train[category_column_list] = data_train[category_column_list].apply(lambda col: le.fit_transform(col))"
   ]
  },
  {
   "cell_type": "code",
   "execution_count": 15,
   "metadata": {},
   "outputs": [
    {
     "data": {
      "text/html": [
       "<div>\n",
       "<style scoped>\n",
       "    .dataframe tbody tr th:only-of-type {\n",
       "        vertical-align: middle;\n",
       "    }\n",
       "\n",
       "    .dataframe tbody tr th {\n",
       "        vertical-align: top;\n",
       "    }\n",
       "\n",
       "    .dataframe thead th {\n",
       "        text-align: right;\n",
       "    }\n",
       "</style>\n",
       "<table border=\"1\" class=\"dataframe\">\n",
       "  <thead>\n",
       "    <tr style=\"text-align: right;\">\n",
       "      <th></th>\n",
       "      <th>Delivery_person_ID</th>\n",
       "      <th>Delivery_person_Age</th>\n",
       "      <th>Delivery_person_Ratings</th>\n",
       "      <th>Restaurant_latitude</th>\n",
       "      <th>Restaurant_longitude</th>\n",
       "      <th>Delivery_location_latitude</th>\n",
       "      <th>Delivery_location_longitude</th>\n",
       "      <th>Distance</th>\n",
       "      <th>Order_Date</th>\n",
       "      <th>Time_Orderd</th>\n",
       "      <th>Time_Order_picked</th>\n",
       "      <th>Weather</th>\n",
       "      <th>Road_traffic_density</th>\n",
       "      <th>Vehicle_condition</th>\n",
       "      <th>Type_of_order</th>\n",
       "      <th>Type_of_vehicle</th>\n",
       "      <th>multiple_deliveries</th>\n",
       "      <th>Festival</th>\n",
       "      <th>City</th>\n",
       "      <th>Time_taken</th>\n",
       "    </tr>\n",
       "  </thead>\n",
       "  <tbody>\n",
       "    <tr>\n",
       "      <th>1</th>\n",
       "      <td>1299</td>\n",
       "      <td>27.0</td>\n",
       "      <td>21</td>\n",
       "      <td>305</td>\n",
       "      <td>43</td>\n",
       "      <td>2378</td>\n",
       "      <td>513</td>\n",
       "      <td>169</td>\n",
       "      <td>39</td>\n",
       "      <td>139</td>\n",
       "      <td>153</td>\n",
       "      <td>5</td>\n",
       "      <td>2</td>\n",
       "      <td>2</td>\n",
       "      <td>0</td>\n",
       "      <td>1</td>\n",
       "      <td>1.0</td>\n",
       "      <td>0</td>\n",
       "      <td>2</td>\n",
       "      <td>14</td>\n",
       "    </tr>\n",
       "    <tr>\n",
       "      <th>2</th>\n",
       "      <td>14</td>\n",
       "      <td>34.0</td>\n",
       "      <td>24</td>\n",
       "      <td>442</td>\n",
       "      <td>255</td>\n",
       "      <td>3940</td>\n",
       "      <td>2929</td>\n",
       "      <td>807</td>\n",
       "      <td>26</td>\n",
       "      <td>148</td>\n",
       "      <td>164</td>\n",
       "      <td>0</td>\n",
       "      <td>2</td>\n",
       "      <td>1</td>\n",
       "      <td>0</td>\n",
       "      <td>1</td>\n",
       "      <td>1.0</td>\n",
       "      <td>0</td>\n",
       "      <td>0</td>\n",
       "      <td>27</td>\n",
       "    </tr>\n",
       "    <tr>\n",
       "      <th>3</th>\n",
       "      <td>265</td>\n",
       "      <td>23.0</td>\n",
       "      <td>25</td>\n",
       "      <td>356</td>\n",
       "      <td>228</td>\n",
       "      <td>3010</td>\n",
       "      <td>2607</td>\n",
       "      <td>2055</td>\n",
       "      <td>30</td>\n",
       "      <td>96</td>\n",
       "      <td>106</td>\n",
       "      <td>2</td>\n",
       "      <td>3</td>\n",
       "      <td>2</td>\n",
       "      <td>3</td>\n",
       "      <td>1</td>\n",
       "      <td>1.0</td>\n",
       "      <td>0</td>\n",
       "      <td>0</td>\n",
       "      <td>21</td>\n",
       "    </tr>\n",
       "  </tbody>\n",
       "</table>\n",
       "</div>"
      ],
      "text/plain": [
       "   Delivery_person_ID  Delivery_person_Age  Delivery_person_Ratings  \\\n",
       "1                1299                 27.0                       21   \n",
       "2                  14                 34.0                       24   \n",
       "3                 265                 23.0                       25   \n",
       "\n",
       "   Restaurant_latitude  Restaurant_longitude  Delivery_location_latitude  \\\n",
       "1                  305                    43                        2378   \n",
       "2                  442                   255                        3940   \n",
       "3                  356                   228                        3010   \n",
       "\n",
       "   Delivery_location_longitude  Distance  Order_Date  Time_Orderd  \\\n",
       "1                          513       169          39          139   \n",
       "2                         2929       807          26          148   \n",
       "3                         2607      2055          30           96   \n",
       "\n",
       "   Time_Order_picked  Weather  Road_traffic_density  Vehicle_condition  \\\n",
       "1                153        5                     2                  2   \n",
       "2                164        0                     2                  1   \n",
       "3                106        2                     3                  2   \n",
       "\n",
       "   Type_of_order  Type_of_vehicle  multiple_deliveries  Festival  City  \\\n",
       "1              0                1                  1.0         0     2   \n",
       "2              0                1                  1.0         0     0   \n",
       "3              3                1                  1.0         0     0   \n",
       "\n",
       "   Time_taken  \n",
       "1          14  \n",
       "2          27  \n",
       "3          21  "
      ]
     },
     "execution_count": 15,
     "metadata": {},
     "output_type": "execute_result"
    }
   ],
   "source": [
    "data_train.head(3)"
   ]
  },
  {
   "cell_type": "code",
   "execution_count": 16,
   "metadata": {},
   "outputs": [
    {
     "name": "stdout",
     "output_type": "stream",
     "text": [
      "41368\n"
     ]
    }
   ],
   "source": [
    "print(len(data_train.index))"
   ]
  },
  {
   "attachments": {},
   "cell_type": "markdown",
   "metadata": {},
   "source": [
    "<h2 id=\"data\"> Build data </h2>"
   ]
  },
  {
   "cell_type": "code",
   "execution_count": 17,
   "metadata": {},
   "outputs": [],
   "source": [
    "import numpy as np\n",
    "\n",
    "# Chia tap du lieu thanh 2 phan: cac thuoc tinh va ket qua (thoi gian can du doan)\n",
    "X = np.array(data_train.loc[:, data_train.columns != 'Time_taken'].values, dtype=np.float64)\n",
    "y = np.array(data_train['Time_taken'].values, dtype=np.float64)"
   ]
  },
  {
   "cell_type": "code",
   "execution_count": 18,
   "metadata": {},
   "outputs": [
    {
     "name": "stdout",
     "output_type": "stream",
     "text": [
      "[[1.299e+03 2.700e+01 2.100e+01 ... 1.000e+00 0.000e+00 2.000e+00]\n",
      " [1.400e+01 3.400e+01 2.400e+01 ... 1.000e+00 0.000e+00 0.000e+00]\n",
      " [2.650e+02 2.300e+01 2.500e+01 ... 1.000e+00 0.000e+00 0.000e+00]\n",
      " ...\n",
      " [9.890e+02 3.400e+01 1.900e+01 ... 2.000e+00 0.000e+00 2.000e+00]\n",
      " [6.510e+02 3.200e+01 1.500e+01 ... 1.000e+00 0.000e+00 0.000e+00]\n",
      " [6.430e+02 2.900e+01 2.300e+01 ... 1.000e+00 0.000e+00 0.000e+00]]\n",
      "[14. 27. 21. ... 39. 24. 31.]\n"
     ]
    }
   ],
   "source": [
    "print(X)\n",
    "print(y)"
   ]
  },
  {
   "cell_type": "code",
   "execution_count": 19,
   "metadata": {},
   "outputs": [],
   "source": [
    "from sklearn.model_selection import train_test_split\n",
    "\n",
    "# chia du lieu thanh train va test\n",
    "X_train, X_test, y_train, y_test = train_test_split(X, y, test_size=0.33, random_state=36)"
   ]
  },
  {
   "attachments": {},
   "cell_type": "markdown",
   "metadata": {},
   "source": [
    "<h2 id=\"model\"> Build model </h2>"
   ]
  },
  {
   "cell_type": "code",
   "execution_count": 36,
   "metadata": {},
   "outputs": [],
   "source": [
    "from sklearn.ensemble import GradientBoostingRegressor\n",
    "from sklearn.metrics import r2_score\n",
    "from sklearn.metrics import mean_squared_error\n",
    "from sklearn.metrics import mean_absolute_error"
   ]
  },
  {
   "cell_type": "markdown",
   "metadata": {},
   "source": [
    "<h3 id=\"gb\">Gradient Boosting</h3>"
   ]
  },
  {
   "cell_type": "code",
   "execution_count": 21,
   "metadata": {},
   "outputs": [
    {
     "name": "stdout",
     "output_type": "stream",
     "text": [
      "0.7792687885161625\n"
     ]
    }
   ],
   "source": [
    "# du doan y bang thua toan Gradient Boosting\n",
    "gbm = GradientBoostingRegressor(random_state=0)\n",
    "gbm.fit(X_train, y_train)\n"
   ]
  },
  {
   "cell_type": "markdown",
   "metadata": {},
   "source": [
    "<h3 id=\"assess\">Assessing model by R2, MAE, MSE</h3>"
   ]
  },
  {
   "cell_type": "code",
   "execution_count": 38,
   "metadata": {},
   "outputs": [
    {
     "name": "stdout",
     "output_type": "stream",
     "text": [
      "0.7792687885161625\n"
     ]
    }
   ],
   "source": [
    "# danh gia ket qua thuat toan gradient boosting\n",
    "r2 = r2_score(y_test,gbm.predict(X_test))\n",
    "print(r2)"
   ]
  },
  {
   "cell_type": "code",
   "execution_count": 39,
   "metadata": {},
   "outputs": [
    {
     "name": "stdout",
     "output_type": "stream",
     "text": [
      "19.184329320330974\n"
     ]
    }
   ],
   "source": [
    "# đánh giá kết quả thuật toán bằng MSE\n",
    "mse = mean_squared_error(y_test,gbm.predict(X_test))\n",
    "print(mse)"
   ]
  },
  {
   "cell_type": "code",
   "execution_count": 40,
   "metadata": {},
   "outputs": [
    {
     "name": "stdout",
     "output_type": "stream",
     "text": [
      "3.5070158110534586\n"
     ]
    }
   ],
   "source": [
    "# đánh giá kết quả thuật toán bằng MAE\n",
    "mae = mean_absolute_error(y_test,gbm.predict(X_test))\n",
    "print(mae)"
   ]
  },
  {
   "cell_type": "markdown",
   "metadata": {},
   "source": [
    "<h2 id = \"rank\"> Future Ranking </h2>"
   ]
  },
  {
   "cell_type": "code",
   "execution_count": 31,
   "metadata": {},
   "outputs": [],
   "source": [
    "import numpy as np\n",
    "importances = gbm.feature_importances_\n",
    "\n",
    "# Sort feature importances in descending order\n",
    "indices = np.argsort(importances)[::-1]\n",
    "Features = data_train.columns"
   ]
  },
  {
   "cell_type": "code",
   "execution_count": 32,
   "metadata": {},
   "outputs": [
    {
     "name": "stdout",
     "output_type": "stream",
     "text": [
      "Feature ranking:\n",
      "1. Delivery_person_Ratings: Importance 0.23266912554408356\n",
      "2. Weather: Importance 0.1350546442130052\n",
      "3. Road_traffic_density: Importance 0.12095475108013512\n",
      "4. multiple_deliveries: Importance 0.11872697162324522\n",
      "5. Distance: Importance 0.09898127577322319\n",
      "6. Vehicle_condition: Importance 0.09409328083950434\n",
      "7. Delivery_person_Age: Importance 0.09353819525199936\n",
      "8. Time_Orderd: Importance 0.05380130334670909\n",
      "9. Festival: Importance 0.029059198568384702\n",
      "10. Time_Order_picked: Importance 0.011968917805444453\n",
      "11. City: Importance 0.010937585440344831\n",
      "12. Restaurant_latitude: Importance 7.949627187411405e-05\n",
      "13. Restaurant_longitude: Importance 4.646301100470623e-05\n",
      "14. Delivery_location_latitude: Importance 3.080453367434108e-05\n",
      "15. Type_of_vehicle: Importance 2.9504375015293217e-05\n",
      "16. Delivery_person_ID: Importance 2.8482322352468326e-05\n",
      "17. Order_Date: Importance 0.0\n",
      "18. Delivery_location_longitude: Importance 0.0\n",
      "19. Type_of_order: Importance 0.0\n"
     ]
    }
   ],
   "source": [
    "print(\"Feature ranking:\")\n",
    "for i, index in enumerate(indices):\n",
    "    print(f\"{i+1}. {Features[index]}: Importance {importances[index]}\")"
   ]
  }
 ],
 "metadata": {
  "kernelspec": {
   "display_name": "Python 3.9.6 64-bit",
   "language": "python",
   "name": "python3"
  },
  "language_info": {
   "codemirror_mode": {
    "name": "ipython",
    "version": 3
   },
   "file_extension": ".py",
   "mimetype": "text/x-python",
   "name": "python",
   "nbconvert_exporter": "python",
   "pygments_lexer": "ipython3",
   "version": "3.9.6"
  },
  "orig_nbformat": 4,
  "vscode": {
   "interpreter": {
    "hash": "31f2aee4e71d21fbe5cf8b01ff0e069b9275f58929596ceb00d14d90e3e16cd6"
   }
  }
 },
 "nbformat": 4,
 "nbformat_minor": 2
}
